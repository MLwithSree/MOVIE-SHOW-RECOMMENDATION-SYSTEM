{
 "cells": [
  {
   "cell_type": "markdown",
   "id": "9814712a-6226-4164-ba49-432b70e7d143",
   "metadata": {},
   "source": [
    "# NETFLIX SHOW RECOMENDER"
   ]
  },
  {
   "cell_type": "code",
   "execution_count": 6,
   "id": "9c1e03e8-8e2e-47b4-8f2f-be2a388fc102",
   "metadata": {
    "tags": []
   },
   "outputs": [
    {
     "name": "stdout",
     "output_type": "stream",
     "text": [
      "  show_id     type                  title         director  \\\n",
      "0      s1    Movie   Dick Johnson Is Dead  Kirsten Johnson   \n",
      "1      s2  TV Show          Blood & Water              NaN   \n",
      "2      s3  TV Show              Ganglands  Julien Leclercq   \n",
      "3      s4  TV Show  Jailbirds New Orleans              NaN   \n",
      "4      s5  TV Show           Kota Factory              NaN   \n",
      "\n",
      "                                                cast        country  \\\n",
      "0                                                NaN  United States   \n",
      "1  Ama Qamata, Khosi Ngema, Gail Mabalane, Thaban...   South Africa   \n",
      "2  Sami Bouajila, Tracy Gotoas, Samuel Jouy, Nabi...            NaN   \n",
      "3                                                NaN            NaN   \n",
      "4  Mayur More, Jitendra Kumar, Ranjan Raj, Alam K...          India   \n",
      "\n",
      "           date_added  release_year rating   duration  \\\n",
      "0  September 25, 2021          2020  PG-13     90 min   \n",
      "1  September 24, 2021          2021  TV-MA  2 Seasons   \n",
      "2  September 24, 2021          2021  TV-MA   1 Season   \n",
      "3  September 24, 2021          2021  TV-MA   1 Season   \n",
      "4  September 24, 2021          2021  TV-MA  2 Seasons   \n",
      "\n",
      "                                           listed_in  \\\n",
      "0                                      Documentaries   \n",
      "1    International TV Shows, TV Dramas, TV Mysteries   \n",
      "2  Crime TV Shows, International TV Shows, TV Act...   \n",
      "3                             Docuseries, Reality TV   \n",
      "4  International TV Shows, Romantic TV Shows, TV ...   \n",
      "\n",
      "                                         description  \n",
      "0  As her father nears the end of his life, filmm...  \n",
      "1  After crossing paths at a party, a Cape Town t...  \n",
      "2  To protect his family from a powerful drug lor...  \n",
      "3  Feuds, flirtations and toilet talk go down amo...  \n",
      "4  In a city of coaching centers known to train I...  \n"
     ]
    }
   ],
   "source": [
    "import pandas as pd\n",
    "df = pd.read_csv(\"netflix_titles.csv\")\n",
    "print(df.head())"
   ]
  },
  {
   "cell_type": "code",
   "execution_count": 7,
   "id": "a7e9473c-e98f-4d46-88bc-327a689cf839",
   "metadata": {
    "tags": []
   },
   "outputs": [
    {
     "name": "stdout",
     "output_type": "stream",
     "text": [
      "Shape: (8807, 12)\n"
     ]
    }
   ],
   "source": [
    "print(\"Shape:\", df.shape)"
   ]
  },
  {
   "cell_type": "code",
   "execution_count": 8,
   "id": "d9af3a62-c623-442e-bb9d-44df09a0abb4",
   "metadata": {
    "tags": []
   },
   "outputs": [
    {
     "name": "stdout",
     "output_type": "stream",
     "text": [
      "<class 'pandas.core.frame.DataFrame'>\n",
      "RangeIndex: 8807 entries, 0 to 8806\n",
      "Data columns (total 12 columns):\n",
      " #   Column        Non-Null Count  Dtype \n",
      "---  ------        --------------  ----- \n",
      " 0   show_id       8807 non-null   object\n",
      " 1   type          8807 non-null   object\n",
      " 2   title         8807 non-null   object\n",
      " 3   director      6173 non-null   object\n",
      " 4   cast          7982 non-null   object\n",
      " 5   country       7976 non-null   object\n",
      " 6   date_added    8797 non-null   object\n",
      " 7   release_year  8807 non-null   int64 \n",
      " 8   rating        8803 non-null   object\n",
      " 9   duration      8804 non-null   object\n",
      " 10  listed_in     8807 non-null   object\n",
      " 11  description   8807 non-null   object\n",
      "dtypes: int64(1), object(11)\n",
      "memory usage: 825.8+ KB\n",
      "None\n"
     ]
    }
   ],
   "source": [
    "print(df.info())"
   ]
  },
  {
   "cell_type": "code",
   "execution_count": 9,
   "id": "7f44e269-5bb5-48e6-9571-9bf5e788ff19",
   "metadata": {
    "tags": []
   },
   "outputs": [
    {
     "name": "stdout",
     "output_type": "stream",
     "text": [
      "show_id            0\n",
      "type               0\n",
      "title              0\n",
      "director        2634\n",
      "cast             825\n",
      "country          831\n",
      "date_added        10\n",
      "release_year       0\n",
      "rating             4\n",
      "duration           3\n",
      "listed_in          0\n",
      "description        0\n",
      "dtype: int64\n"
     ]
    }
   ],
   "source": [
    "print(df.isnull().sum())"
   ]
  },
  {
   "cell_type": "code",
   "execution_count": 11,
   "id": "eb18edc7-d131-4f6f-a8d2-2eab212e5614",
   "metadata": {
    "tags": []
   },
   "outputs": [],
   "source": [
    "df['date_added'] = pd.to_datetime(df['date_added'], format='mixed', errors='coerce')\n",
    "\n"
   ]
  },
  {
   "cell_type": "code",
   "execution_count": 12,
   "id": "0056b615-956c-41ba-9eb6-43fc14f9e3de",
   "metadata": {
    "tags": []
   },
   "outputs": [],
   "source": [
    "df['year_added'] = df['date_added'].dt.year\n",
    "df['month_added'] = df['date_added'].dt.month\n"
   ]
  },
  {
   "cell_type": "code",
   "execution_count": 15,
   "id": "645106ac-44bf-4e9e-8004-4e503e0c19cf",
   "metadata": {
    "tags": []
   },
   "outputs": [
    {
     "name": "stdout",
     "output_type": "stream",
     "text": [
      "  show_id     type                  title         director  \\\n",
      "0      s1    Movie   Dick Johnson Is Dead  Kirsten Johnson   \n",
      "1      s2  TV Show          Blood & Water          Unknown   \n",
      "2      s3  TV Show              Ganglands  Julien Leclercq   \n",
      "3      s4  TV Show  Jailbirds New Orleans          Unknown   \n",
      "4      s5  TV Show           Kota Factory          Unknown   \n",
      "\n",
      "                                                cast        country  \\\n",
      "0                                            Unknown  United States   \n",
      "1  Ama Qamata, Khosi Ngema, Gail Mabalane, Thaban...   South Africa   \n",
      "2  Sami Bouajila, Tracy Gotoas, Samuel Jouy, Nabi...        Unknown   \n",
      "3                                            Unknown        Unknown   \n",
      "4  Mayur More, Jitendra Kumar, Ranjan Raj, Alam K...          India   \n",
      "\n",
      "  date_added  release_year rating   duration  \\\n",
      "0 2021-09-25          2020  PG-13     90 min   \n",
      "1 2021-09-24          2021  TV-MA  2 Seasons   \n",
      "2 2021-09-24          2021  TV-MA   1 Season   \n",
      "3 2021-09-24          2021  TV-MA   1 Season   \n",
      "4 2021-09-24          2021  TV-MA  2 Seasons   \n",
      "\n",
      "                                           listed_in  \\\n",
      "0                                      Documentaries   \n",
      "1    International TV Shows, TV Dramas, TV Mysteries   \n",
      "2  Crime TV Shows, International TV Shows, TV Act...   \n",
      "3                             Docuseries, Reality TV   \n",
      "4  International TV Shows, Romantic TV Shows, TV ...   \n",
      "\n",
      "                                         description  year_added  month_added  \n",
      "0  As her father nears the end of his life, filmm...      2021.0          9.0  \n",
      "1  After crossing paths at a party, a Cape Town t...      2021.0          9.0  \n",
      "2  To protect his family from a powerful drug lor...      2021.0          9.0  \n",
      "3  Feuds, flirtations and toilet talk go down amo...      2021.0          9.0  \n",
      "4  In a city of coaching centers known to train I...      2021.0          9.0  \n"
     ]
    }
   ],
   "source": [
    "print(df.head(5))"
   ]
  },
  {
   "cell_type": "code",
   "execution_count": 13,
   "id": "27ebf4d2-14ec-4d03-93c0-f1156d21f82a",
   "metadata": {
    "tags": []
   },
   "outputs": [],
   "source": [
    "# Fill nulls in 'country', 'cast', 'director' with 'Unknown'\n",
    "df['country'].fillna('Unknown', inplace=True)\n",
    "df['cast'].fillna('Unknown', inplace=True)\n",
    "df['director'].fillna('Unknown', inplace=True)"
   ]
  },
  {
   "cell_type": "code",
   "execution_count": 14,
   "id": "f618ff35-502e-4bf4-b5ce-dfe4a35ced85",
   "metadata": {
    "tags": []
   },
   "outputs": [
    {
     "name": "stdout",
     "output_type": "stream",
     "text": [
      "  show_id     type                  title         director  \\\n",
      "0      s1    Movie   Dick Johnson Is Dead  Kirsten Johnson   \n",
      "1      s2  TV Show          Blood & Water          Unknown   \n",
      "2      s3  TV Show              Ganglands  Julien Leclercq   \n",
      "3      s4  TV Show  Jailbirds New Orleans          Unknown   \n",
      "4      s5  TV Show           Kota Factory          Unknown   \n",
      "\n",
      "                                                cast        country  \\\n",
      "0                                            Unknown  United States   \n",
      "1  Ama Qamata, Khosi Ngema, Gail Mabalane, Thaban...   South Africa   \n",
      "2  Sami Bouajila, Tracy Gotoas, Samuel Jouy, Nabi...        Unknown   \n",
      "3                                            Unknown        Unknown   \n",
      "4  Mayur More, Jitendra Kumar, Ranjan Raj, Alam K...          India   \n",
      "\n",
      "  date_added  release_year rating   duration  \\\n",
      "0 2021-09-25          2020  PG-13     90 min   \n",
      "1 2021-09-24          2021  TV-MA  2 Seasons   \n",
      "2 2021-09-24          2021  TV-MA   1 Season   \n",
      "3 2021-09-24          2021  TV-MA   1 Season   \n",
      "4 2021-09-24          2021  TV-MA  2 Seasons   \n",
      "\n",
      "                                           listed_in  \\\n",
      "0                                      Documentaries   \n",
      "1    International TV Shows, TV Dramas, TV Mysteries   \n",
      "2  Crime TV Shows, International TV Shows, TV Act...   \n",
      "3                             Docuseries, Reality TV   \n",
      "4  International TV Shows, Romantic TV Shows, TV ...   \n",
      "\n",
      "                                         description  year_added  month_added  \n",
      "0  As her father nears the end of his life, filmm...      2021.0          9.0  \n",
      "1  After crossing paths at a party, a Cape Town t...      2021.0          9.0  \n",
      "2  To protect his family from a powerful drug lor...      2021.0          9.0  \n",
      "3  Feuds, flirtations and toilet talk go down amo...      2021.0          9.0  \n",
      "4  In a city of coaching centers known to train I...      2021.0          9.0  \n"
     ]
    }
   ],
   "source": [
    "print(df.head(5))"
   ]
  },
  {
   "cell_type": "code",
   "execution_count": 16,
   "id": "424e2193-74ff-4c98-aafb-8eeec1804c4b",
   "metadata": {
    "tags": []
   },
   "outputs": [],
   "source": [
    "# Drop rows where 'title' is missing (critical column)\n",
    "df.dropna(subset=['title'], inplace=True)"
   ]
  },
  {
   "cell_type": "code",
   "execution_count": 18,
   "id": "afe959dd-914e-402d-a54f-658508b3ba7f",
   "metadata": {
    "tags": []
   },
   "outputs": [
    {
     "name": "stdout",
     "output_type": "stream",
     "text": [
      "  show_id     type                  title         director  \\\n",
      "0      s1    Movie   Dick Johnson Is Dead  Kirsten Johnson   \n",
      "1      s2  TV Show          Blood & Water          Unknown   \n",
      "2      s3  TV Show              Ganglands  Julien Leclercq   \n",
      "3      s4  TV Show  Jailbirds New Orleans          Unknown   \n",
      "4      s5  TV Show           Kota Factory          Unknown   \n",
      "\n",
      "                                                cast        country  \\\n",
      "0                                            Unknown  United States   \n",
      "1  Ama Qamata, Khosi Ngema, Gail Mabalane, Thaban...   South Africa   \n",
      "2  Sami Bouajila, Tracy Gotoas, Samuel Jouy, Nabi...        Unknown   \n",
      "3                                            Unknown        Unknown   \n",
      "4  Mayur More, Jitendra Kumar, Ranjan Raj, Alam K...          India   \n",
      "\n",
      "  date_added  release_year rating   duration  \\\n",
      "0 2021-09-25          2020  PG-13     90 min   \n",
      "1 2021-09-24          2021  TV-MA  2 Seasons   \n",
      "2 2021-09-24          2021  TV-MA   1 Season   \n",
      "3 2021-09-24          2021  TV-MA   1 Season   \n",
      "4 2021-09-24          2021  TV-MA  2 Seasons   \n",
      "\n",
      "                                           listed_in  \\\n",
      "0                                      Documentaries   \n",
      "1    International TV Shows, TV Dramas, TV Mysteries   \n",
      "2  Crime TV Shows, International TV Shows, TV Act...   \n",
      "3                             Docuseries, Reality TV   \n",
      "4  International TV Shows, Romantic TV Shows, TV ...   \n",
      "\n",
      "                                         description  year_added  month_added  \\\n",
      "0  As her father nears the end of his life, filmm...      2021.0          9.0   \n",
      "1  After crossing paths at a party, a Cape Town t...      2021.0          9.0   \n",
      "2  To protect his family from a powerful drug lor...      2021.0          9.0   \n",
      "3  Feuds, flirtations and toilet talk go down amo...      2021.0          9.0   \n",
      "4  In a city of coaching centers known to train I...      2021.0          9.0   \n",
      "\n",
      "  duration_type  duration_int  \n",
      "0           min          90.0  \n",
      "1       Seasons           2.0  \n",
      "2        Season           1.0  \n",
      "3        Season           1.0  \n",
      "4       Seasons           2.0  \n"
     ]
    }
   ],
   "source": [
    "print(df.head(5))"
   ]
  },
  {
   "cell_type": "code",
   "execution_count": 19,
   "id": "ee2efb83-852c-4600-80ac-648bed454eb5",
   "metadata": {
    "tags": []
   },
   "outputs": [],
   "source": [
    "# Extract duration (in minutes or seasons)\n",
    "df['duration_type'] = df['duration'].str.extract(r'(\\D+)', expand=False).str.strip()\n",
    "df['duration_int'] = df['duration'].str.extract(r'(\\d+)', expand=False).astype(float)"
   ]
  },
  {
   "cell_type": "code",
   "execution_count": 20,
   "id": "822a0ce6-8c00-46f6-84e5-2693c0cf7c9f",
   "metadata": {
    "tags": []
   },
   "outputs": [
    {
     "name": "stdout",
     "output_type": "stream",
     "text": [
      "  show_id     type                  title         director  \\\n",
      "0      s1    Movie   Dick Johnson Is Dead  Kirsten Johnson   \n",
      "1      s2  TV Show          Blood & Water          Unknown   \n",
      "2      s3  TV Show              Ganglands  Julien Leclercq   \n",
      "3      s4  TV Show  Jailbirds New Orleans          Unknown   \n",
      "4      s5  TV Show           Kota Factory          Unknown   \n",
      "\n",
      "                                                cast        country  \\\n",
      "0                                            Unknown  United States   \n",
      "1  Ama Qamata, Khosi Ngema, Gail Mabalane, Thaban...   South Africa   \n",
      "2  Sami Bouajila, Tracy Gotoas, Samuel Jouy, Nabi...        Unknown   \n",
      "3                                            Unknown        Unknown   \n",
      "4  Mayur More, Jitendra Kumar, Ranjan Raj, Alam K...          India   \n",
      "\n",
      "  date_added  release_year rating   duration  \\\n",
      "0 2021-09-25          2020  PG-13     90 min   \n",
      "1 2021-09-24          2021  TV-MA  2 Seasons   \n",
      "2 2021-09-24          2021  TV-MA   1 Season   \n",
      "3 2021-09-24          2021  TV-MA   1 Season   \n",
      "4 2021-09-24          2021  TV-MA  2 Seasons   \n",
      "\n",
      "                                           listed_in  \\\n",
      "0                                      Documentaries   \n",
      "1    International TV Shows, TV Dramas, TV Mysteries   \n",
      "2  Crime TV Shows, International TV Shows, TV Act...   \n",
      "3                             Docuseries, Reality TV   \n",
      "4  International TV Shows, Romantic TV Shows, TV ...   \n",
      "\n",
      "                                         description  year_added  month_added  \\\n",
      "0  As her father nears the end of his life, filmm...      2021.0          9.0   \n",
      "1  After crossing paths at a party, a Cape Town t...      2021.0          9.0   \n",
      "2  To protect his family from a powerful drug lor...      2021.0          9.0   \n",
      "3  Feuds, flirtations and toilet talk go down amo...      2021.0          9.0   \n",
      "4  In a city of coaching centers known to train I...      2021.0          9.0   \n",
      "\n",
      "  duration_type  duration_int  \n",
      "0           min          90.0  \n",
      "1       Seasons           2.0  \n",
      "2        Season           1.0  \n",
      "3        Season           1.0  \n",
      "4       Seasons           2.0  \n"
     ]
    }
   ],
   "source": [
    "print(df.head(5))"
   ]
  },
  {
   "cell_type": "code",
   "execution_count": 21,
   "id": "442f6a27-1ca6-4fdc-a085-6f2b9d8cdd62",
   "metadata": {
    "tags": []
   },
   "outputs": [],
   "source": [
    "# Lowercase genre (listed_in) for consistency\n",
    "df['genres'] = df['listed_in'].str.lower()\n"
   ]
  },
  {
   "cell_type": "code",
   "execution_count": 24,
   "id": "53358d9f-3c28-4014-8411-675f0c351d4e",
   "metadata": {
    "tags": []
   },
   "outputs": [
    {
     "name": "stdout",
     "output_type": "stream",
     "text": [
      "  show_id     type                  title         director  \\\n",
      "0      s1    Movie   Dick Johnson Is Dead  Kirsten Johnson   \n",
      "1      s2  TV Show          Blood & Water          Unknown   \n",
      "2      s3  TV Show              Ganglands  Julien Leclercq   \n",
      "3      s4  TV Show  Jailbirds New Orleans          Unknown   \n",
      "4      s5  TV Show           Kota Factory          Unknown   \n",
      "\n",
      "                                                cast        country  \\\n",
      "0                                            Unknown  United States   \n",
      "1  Ama Qamata, Khosi Ngema, Gail Mabalane, Thaban...   South Africa   \n",
      "2  Sami Bouajila, Tracy Gotoas, Samuel Jouy, Nabi...        Unknown   \n",
      "3                                            Unknown        Unknown   \n",
      "4  Mayur More, Jitendra Kumar, Ranjan Raj, Alam K...          India   \n",
      "\n",
      "  date_added  release_year rating   duration  \\\n",
      "0 2021-09-25          2020  PG-13     90 min   \n",
      "1 2021-09-24          2021  TV-MA  2 Seasons   \n",
      "2 2021-09-24          2021  TV-MA   1 Season   \n",
      "3 2021-09-24          2021  TV-MA   1 Season   \n",
      "4 2021-09-24          2021  TV-MA  2 Seasons   \n",
      "\n",
      "                                           listed_in  \\\n",
      "0                                      Documentaries   \n",
      "1    International TV Shows, TV Dramas, TV Mysteries   \n",
      "2  Crime TV Shows, International TV Shows, TV Act...   \n",
      "3                             Docuseries, Reality TV   \n",
      "4  International TV Shows, Romantic TV Shows, TV ...   \n",
      "\n",
      "                                         description  year_added  month_added  \\\n",
      "0  As her father nears the end of his life, filmm...      2021.0          9.0   \n",
      "1  After crossing paths at a party, a Cape Town t...      2021.0          9.0   \n",
      "2  To protect his family from a powerful drug lor...      2021.0          9.0   \n",
      "3  Feuds, flirtations and toilet talk go down amo...      2021.0          9.0   \n",
      "4  In a city of coaching centers known to train I...      2021.0          9.0   \n",
      "\n",
      "  duration_type  duration_int  \\\n",
      "0           min          90.0   \n",
      "1       Seasons           2.0   \n",
      "2        Season           1.0   \n",
      "3        Season           1.0   \n",
      "4       Seasons           2.0   \n",
      "\n",
      "                                              genres  \n",
      "0                                      documentaries  \n",
      "1    international tv shows, tv dramas, tv mysteries  \n",
      "2  crime tv shows, international tv shows, tv act...  \n",
      "3                             docuseries, reality tv  \n",
      "4  international tv shows, romantic tv shows, tv ...  \n"
     ]
    }
   ],
   "source": [
    "print(df.head(5))"
   ]
  },
  {
   "cell_type": "code",
   "execution_count": 25,
   "id": "fb37ffa6-d1d3-479a-a8d0-e288947d56fd",
   "metadata": {
    "tags": []
   },
   "outputs": [],
   "source": [
    "# Optional: remove duplicates\n",
    "df.drop_duplicates(inplace=True)"
   ]
  },
  {
   "cell_type": "code",
   "execution_count": 26,
   "id": "a6859085-4680-4b0c-806d-cc50ec85c191",
   "metadata": {
    "tags": []
   },
   "outputs": [
    {
     "name": "stdout",
     "output_type": "stream",
     "text": [
      "<class 'pandas.core.frame.DataFrame'>\n",
      "RangeIndex: 8807 entries, 0 to 8806\n",
      "Data columns (total 17 columns):\n",
      " #   Column         Non-Null Count  Dtype         \n",
      "---  ------         --------------  -----         \n",
      " 0   show_id        8807 non-null   object        \n",
      " 1   type           8807 non-null   object        \n",
      " 2   title          8807 non-null   object        \n",
      " 3   director       8807 non-null   object        \n",
      " 4   cast           8807 non-null   object        \n",
      " 5   country        8807 non-null   object        \n",
      " 6   date_added     8797 non-null   datetime64[ns]\n",
      " 7   release_year   8807 non-null   int64         \n",
      " 8   rating         8803 non-null   object        \n",
      " 9   duration       8804 non-null   object        \n",
      " 10  listed_in      8807 non-null   object        \n",
      " 11  description    8807 non-null   object        \n",
      " 12  year_added     8797 non-null   float64       \n",
      " 13  month_added    8797 non-null   float64       \n",
      " 14  duration_type  8804 non-null   object        \n",
      " 15  duration_int   8804 non-null   float64       \n",
      " 16  genres         8807 non-null   object        \n",
      "dtypes: datetime64[ns](1), float64(3), int64(1), object(12)\n",
      "memory usage: 1.1+ MB\n",
      "None\n",
      "                   title     type  \\\n",
      "0   Dick Johnson Is Dead    Movie   \n",
      "1          Blood & Water  TV Show   \n",
      "2              Ganglands  TV Show   \n",
      "3  Jailbirds New Orleans  TV Show   \n",
      "4           Kota Factory  TV Show   \n",
      "\n",
      "                                              genres  duration_int  \\\n",
      "0                                      documentaries          90.0   \n",
      "1    international tv shows, tv dramas, tv mysteries           2.0   \n",
      "2  crime tv shows, international tv shows, tv act...           1.0   \n",
      "3                             docuseries, reality tv           1.0   \n",
      "4  international tv shows, romantic tv shows, tv ...           2.0   \n",
      "\n",
      "  duration_type  \n",
      "0           min  \n",
      "1       Seasons  \n",
      "2        Season  \n",
      "3        Season  \n",
      "4       Seasons  \n"
     ]
    }
   ],
   "source": [
    "print(df.info())\n",
    "print(df[['title', 'type', 'genres', 'duration_int', 'duration_type']].head())"
   ]
  },
  {
   "cell_type": "code",
   "execution_count": null,
   "id": "2017d08a-bc79-4df9-ad49-d1c1145b9cea",
   "metadata": {},
   "outputs": [],
   "source": []
  },
  {
   "cell_type": "code",
   "execution_count": 27,
   "id": "95cc69de-fa55-4a35-a393-c527db632d2c",
   "metadata": {
    "tags": []
   },
   "outputs": [],
   "source": [
    "import seaborn as sns\n",
    "import matplotlib.pyplot as plt"
   ]
  },
  {
   "cell_type": "markdown",
   "id": "1c45b4ad-0a62-4dfd-92ec-c11c70d56c3b",
   "metadata": {},
   "source": [
    "1. Content Type Distribution (Movie vs TV Show)"
   ]
  },
  {
   "cell_type": "code",
   "execution_count": 28,
   "id": "298725ac-dfda-413f-8e86-5c38a90335b4",
   "metadata": {
    "tags": []
   },
   "outputs": [
    {
     "data": {
      "image/png": "[encoded data removed]",
      "text/plain": [
       "<Figure size 640x480 with 1 Axes>"
      ]
     },
     "metadata": {},
     "output_type": "display_data"
    }
   ],
   "source": [
    "sns.countplot(data=df, x='type', palette='Set2')\n",
    "plt.title('Count of Movies vs TV Shows on Netflix')\n",
    "plt.xlabel('Content Type')\n",
    "plt.ylabel('Count')\n",
    "plt.show()"
   ]
  },
  {
   "cell_type": "markdown",
   "id": "f48efacb-2a35-4476-a065-2c29db469b49",
   "metadata": {},
   "source": [
    "2. Top 10 Countries Producing Netflix Content"
   ]
  },
  {
   "cell_type": "code",
   "execution_count": 30,
   "id": "4884e13b-8809-43c8-87a4-a4204eb76836",
   "metadata": {
    "tags": []
   },
   "outputs": [],
   "source": [
    "top_countries = df['country'].value_counts().head(10)"
   ]
  },
  {
   "cell_type": "code",
   "execution_count": 31,
   "id": "19356dc2-2d4b-495b-906d-e3edbaa16889",
   "metadata": {
    "tags": []
   },
   "outputs": [
    {
     "data": {
      "image/png": "[encoded data removed]",
      "text/plain": [
       "<Figure size 640x480 with 1 Axes>"
      ]
     },
     "metadata": {},
     "output_type": "display_data"
    }
   ],
   "source": [
    "top_countries.plot(kind='barh', color='coral')\n",
    "plt.title('Top 10 Content-Producing Countries')\n",
    "plt.xlabel('Number of Titles')\n",
    "plt.gca().invert_yaxis()\n",
    "plt.show()"
   ]
  },
  {
   "cell_type": "markdown",
   "id": "d32e9dcb-27c1-4dbb-9473-8cea75794354",
   "metadata": {},
   "source": [
    "3. Content Released Over the Years"
   ]
  },
  {
   "cell_type": "code",
   "execution_count": 32,
   "id": "6d6e1934-9091-4046-8609-4975ff49a71e",
   "metadata": {
    "tags": []
   },
   "outputs": [
    {
     "data": {
      "image/png": "[encoded data removed]",
      "text/plain": [
       "<Figure size 1200x500 with 1 Axes>"
      ]
     },
     "metadata": {},
     "output_type": "display_data"
    }
   ],
   "source": [
    "df['release_year'].value_counts().sort_index().plot(kind='line', figsize=(12,5), color='green')\n",
    "plt.title('Netflix Content by Release Year')\n",
    "plt.xlabel('Year')\n",
    "plt.ylabel('Number of Titles')\n",
    "plt.grid(True)\n",
    "plt.show()\n"
   ]
  },
  {
   "cell_type": "markdown",
   "id": "e35eff15-5948-4449-bcfd-ecf9499cbfbb",
   "metadata": {},
   "source": [
    "4. Top 10 Most Common Genres"
   ]
  },
  {
   "cell_type": "code",
   "execution_count": 33,
   "id": "f8c8d9a7-6b92-4b26-84f1-20c14345e039",
   "metadata": {
    "tags": []
   },
   "outputs": [
    {
     "data": {
      "image/png": "[encoded data removed]",
      "text/plain": [
       "<Figure size 640x480 with 1 Axes>"
      ]
     },
     "metadata": {},
     "output_type": "display_data"
    }
   ],
   "source": [
    "from collections import Counter\n",
    "\n",
    "# Split genres by comma and flatten the list\n",
    "genre_list = sum(df['genres'].dropna().str.split(', '), [])\n",
    "genre_counts = Counter(genre_list)\n",
    "\n",
    "# Plot top 10 genres\n",
    "common_genres = pd.Series(dict(genre_counts)).sort_values(ascending=False).head(10)\n",
    "common_genres.plot(kind='bar', color='skyblue')\n",
    "plt.title('Top 10 Genres on Netflix')\n",
    "plt.xlabel('Genre')\n",
    "plt.ylabel('Count')\n",
    "plt.xticks(rotation=45)\n",
    "plt.show()\n"
   ]
  },
  {
   "cell_type": "markdown",
   "id": "797b1a19-c678-4840-87c5-a201a2b12ad0",
   "metadata": {},
   "source": [
    "RECOMMENDATION "
   ]
  },
  {
   "cell_type": "code",
   "execution_count": 34,
   "id": "e461e8d6-a10f-4ec3-8374-4c46a98ec40d",
   "metadata": {
    "tags": []
   },
   "outputs": [],
   "source": [
    "from sklearn.feature_extraction.text import TfidfVectorizer\n",
    "from sklearn.metrics.pairwise import cosine_similarity"
   ]
  },
  {
   "cell_type": "code",
   "execution_count": 35,
   "id": "e662796d-8418-460a-8ee6-1ed31e4347b8",
   "metadata": {
    "tags": []
   },
   "outputs": [],
   "source": [
    "# Fill any missing descriptions\n",
    "df['description'] = df['description'].fillna('')"
   ]
  },
  {
   "cell_type": "code",
   "execution_count": 36,
   "id": "1d354c42-09f7-4a16-a97f-326ae3dfc769",
   "metadata": {
    "tags": []
   },
   "outputs": [
    {
     "name": "stdout",
     "output_type": "stream",
     "text": [
      "  show_id     type                  title         director  \\\n",
      "0      s1    Movie   Dick Johnson Is Dead  Kirsten Johnson   \n",
      "1      s2  TV Show          Blood & Water          Unknown   \n",
      "2      s3  TV Show              Ganglands  Julien Leclercq   \n",
      "3      s4  TV Show  Jailbirds New Orleans          Unknown   \n",
      "4      s5  TV Show           Kota Factory          Unknown   \n",
      "5      s6  TV Show          Midnight Mass    Mike Flanagan   \n",
      "\n",
      "                                                cast        country  \\\n",
      "0                                            Unknown  United States   \n",
      "1  Ama Qamata, Khosi Ngema, Gail Mabalane, Thaban...   South Africa   \n",
      "2  Sami Bouajila, Tracy Gotoas, Samuel Jouy, Nabi...        Unknown   \n",
      "3                                            Unknown        Unknown   \n",
      "4  Mayur More, Jitendra Kumar, Ranjan Raj, Alam K...          India   \n",
      "5  Kate Siegel, Zach Gilford, Hamish Linklater, H...        Unknown   \n",
      "\n",
      "  date_added  release_year rating   duration  \\\n",
      "0 2021-09-25          2020  PG-13     90 min   \n",
      "1 2021-09-24          2021  TV-MA  2 Seasons   \n",
      "2 2021-09-24          2021  TV-MA   1 Season   \n",
      "3 2021-09-24          2021  TV-MA   1 Season   \n",
      "4 2021-09-24          2021  TV-MA  2 Seasons   \n",
      "5 2021-09-24          2021  TV-MA   1 Season   \n",
      "\n",
      "                                           listed_in  \\\n",
      "0                                      Documentaries   \n",
      "1    International TV Shows, TV Dramas, TV Mysteries   \n",
      "2  Crime TV Shows, International TV Shows, TV Act...   \n",
      "3                             Docuseries, Reality TV   \n",
      "4  International TV Shows, Romantic TV Shows, TV ...   \n",
      "5                 TV Dramas, TV Horror, TV Mysteries   \n",
      "\n",
      "                                         description  year_added  month_added  \\\n",
      "0  As her father nears the end of his life, filmm...      2021.0          9.0   \n",
      "1  After crossing paths at a party, a Cape Town t...      2021.0          9.0   \n",
      "2  To protect his family from a powerful drug lor...      2021.0          9.0   \n",
      "3  Feuds, flirtations and toilet talk go down amo...      2021.0          9.0   \n",
      "4  In a city of coaching centers known to train I...      2021.0          9.0   \n",
      "5  The arrival of a charismatic young priest brin...      2021.0          9.0   \n",
      "\n",
      "  duration_type  duration_int  \\\n",
      "0           min          90.0   \n",
      "1       Seasons           2.0   \n",
      "2        Season           1.0   \n",
      "3        Season           1.0   \n",
      "4       Seasons           2.0   \n",
      "5        Season           1.0   \n",
      "\n",
      "                                              genres  \n",
      "0                                      documentaries  \n",
      "1    international tv shows, tv dramas, tv mysteries  \n",
      "2  crime tv shows, international tv shows, tv act...  \n",
      "3                             docuseries, reality tv  \n",
      "4  international tv shows, romantic tv shows, tv ...  \n",
      "5                 tv dramas, tv horror, tv mysteries  \n"
     ]
    }
   ],
   "source": [
    "print(df.head(6))"
   ]
  },
  {
   "cell_type": "code",
   "execution_count": 37,
   "id": "bcd209b1-e6d5-46c0-99c8-bf2d204b5988",
   "metadata": {
    "tags": []
   },
   "outputs": [],
   "source": [
    "# TF-IDF Vectorizer (ignores common stopwords)\n",
    "tfidf = TfidfVectorizer(stop_words='english')\n",
    "tfidf_matrix = tfidf.fit_transform(df['description'])"
   ]
  },
  {
   "cell_type": "code",
   "execution_count": 39,
   "id": "b7d74e67-647c-491f-a602-68ca15d32112",
   "metadata": {
    "tags": []
   },
   "outputs": [],
   "source": [
    "# Compute cosine similarity between all titles\n",
    "cosine_sim = cosine_similarity(tfidf_matrix, tfidf_matrix)"
   ]
  },
  {
   "cell_type": "code",
   "execution_count": 40,
   "id": "e6d062d7-bd42-45b0-9e63-4057b62a8fc7",
   "metadata": {
    "tags": []
   },
   "outputs": [],
   "source": [
    "# Build a title-to-index mapping\n",
    "title_index = pd.Series(df.index, index=df['title']).drop_duplicates()"
   ]
  },
  {
   "cell_type": "markdown",
   "id": "4ce4624f-b634-4207-8915-f09fe782dcb9",
   "metadata": {},
   "source": [
    "# Build a Recommender "
   ]
  },
  {
   "cell_type": "code",
   "execution_count": 43,
   "id": "cb0f4268-d6f2-4cdb-859b-520ec22c6830",
   "metadata": {
    "tags": []
   },
   "outputs": [],
   "source": [
    "def recommend(title, cosine_sim=cosine_sim):\n",
    "    idx = title_index.get(title)\n",
    "    \n",
    "    if idx is None:\n",
    "        print(\"Title not found. Please check spelling or try another one.\")\n",
    "        return []\n",
    "    \n",
    "    # Get pairwise similarity scores\n",
    "    sim_scores = list(enumerate(cosine_sim[idx]))\n",
    "\n",
    "    # Sort by similarity score, excluding itself\n",
    "    sim_scores = sorted(sim_scores, key=lambda x: x[1], reverse=True)[1:6]\n",
    "\n",
    "    # Get recommended title indices\n",
    "    show_indices = [i[0] for i in sim_scores]\n",
    "\n",
    "    return df['title'].iloc[show_indices]\n"
   ]
  },
  {
   "cell_type": "code",
   "execution_count": 47,
   "id": "92d93e60-6312-43ad-aab9-f45896f34f8b",
   "metadata": {
    "tags": []
   },
   "outputs": [
    {
     "data": {
      "text/plain": [
       "8658         Under The Skin\n",
       "6426            Case Closed\n",
       "7725         Penny Dreadful\n",
       "6489    City of Tiny Lights\n",
       "2924           French Toast\n",
       "Name: title, dtype: object"
      ]
     },
     "execution_count": 47,
     "metadata": {},
     "output_type": "execute_result"
    }
   ],
   "source": [
    "recommend(\"Sherlock\")"
   ]
  },
  {
   "cell_type": "markdown",
   "id": "c76e6d2e-007b-4bae-9a90-48864d326cba",
   "metadata": {},
   "source": [
    " # Genre-Based Recommender "
   ]
  },
  {
   "cell_type": "code",
   "execution_count": 48,
   "id": "9a1b4a48-b472-4883-b749-cd451bb94981",
   "metadata": {
    "tags": []
   },
   "outputs": [],
   "source": [
    "# Fill NaNs\n",
    "df['genres'] = df['genres'].fillna('')\n",
    "\n",
    "# TF-IDF on genres (like text)\n",
    "tfidf_genre = TfidfVectorizer()\n",
    "tfidf_genre_matrix = tfidf_genre.fit_transform(df['genres'])\n",
    "\n",
    "# Cosine similarity for genre\n",
    "cosine_sim_genre = cosine_similarity(tfidf_genre_matrix, tfidf_genre_matrix)\n"
   ]
  },
  {
   "cell_type": "code",
   "execution_count": 49,
   "id": "f71f3ee6-fae5-4692-8c87-d162f1556373",
   "metadata": {
    "tags": []
   },
   "outputs": [],
   "source": [
    "def recommend_by_genre(title, cosine_sim=cosine_sim_genre):\n",
    "    idx = title_index.get(title)\n",
    "    if idx is None:\n",
    "        print(\"Title not found.\")\n",
    "        return []\n",
    "    \n",
    "    sim_scores = list(enumerate(cosine_sim[idx]))\n",
    "    sim_scores = sorted(sim_scores, key=lambda x: x[1], reverse=True)[1:6]\n",
    "    show_indices = [i[0] for i in sim_scores]\n",
    "    \n",
    "    return df['title'].iloc[show_indices]\n"
   ]
  },
  {
   "cell_type": "code",
   "execution_count": 51,
   "id": "f1d6401f-325c-4a4c-8753-70e9616f19ca",
   "metadata": {
    "tags": []
   },
   "outputs": [
    {
     "data": {
      "text/plain": [
       "1166    The Irregulars\n",
       "1217           The One\n",
       "1991      Criminal: UK\n",
       "2184          Get Even\n",
       "2530       White Lines\n",
       "Name: title, dtype: object"
      ]
     },
     "execution_count": 51,
     "metadata": {},
     "output_type": "execute_result"
    }
   ],
   "source": [
    "recommend_by_genre(\"Sherlock\")"
   ]
  },
  {
   "cell_type": "markdown",
   "id": "e58fd361-b632-4e8f-a985-d11d0de5a1dd",
   "metadata": {},
   "source": [
    "# Hybrid Recommender (Combo of description + genre)"
   ]
  },
  {
   "cell_type": "code",
   "execution_count": 52,
   "id": "ff4596cd-fecb-44be-8c31-7d6478f460b5",
   "metadata": {
    "tags": []
   },
   "outputs": [],
   "source": [
    "# Average of description and genre cosine similarity\n",
    "hybrid_sim = (cosine_sim + cosine_sim_genre) / 2\n"
   ]
  },
  {
   "cell_type": "code",
   "execution_count": 53,
   "id": "2b7f1800-244e-474a-86b1-cc40671463bd",
   "metadata": {
    "tags": []
   },
   "outputs": [],
   "source": [
    "def recommend_hybrid(title, cosine_sim=hybrid_sim):\n",
    "    idx = title_index.get(title)\n",
    "    if idx is None:\n",
    "        print(\"Title not found.\")\n",
    "        return []\n",
    "    \n",
    "    sim_scores = list(enumerate(cosine_sim[idx]))\n",
    "    sim_scores = sorted(sim_scores, key=lambda x: x[1], reverse=True)[1:6]\n",
    "    show_indices = [i[0] for i in sim_scores]\n",
    "    \n",
    "    return df['title'].iloc[show_indices]\n"
   ]
  },
  {
   "cell_type": "code",
   "execution_count": 54,
   "id": "453ee938-130e-4d2d-915b-6ff494799f8f",
   "metadata": {
    "tags": []
   },
   "outputs": [
    {
     "data": {
      "text/plain": [
       "3524         Top Boy\n",
       "2979    THE STRANGER\n",
       "523         Marcella\n",
       "1991    Criminal: UK\n",
       "5716        Paranoid\n",
       "Name: title, dtype: object"
      ]
     },
     "execution_count": 54,
     "metadata": {},
     "output_type": "execute_result"
    }
   ],
   "source": [
    "recommend_hybrid(\"Sherlock\")"
   ]
  },
  {
   "cell_type": "markdown",
   "id": "79da84d5-a549-4c5b-b757-4fa44d6d9a97",
   "metadata": {},
   "source": [
    "# ******* "
   ]
  },
  {
   "cell_type": "code",
   "execution_count": null,
   "id": "60f907cd-66bb-414b-b7d6-225fd20a8cfe",
   "metadata": {},
   "outputs": [],
   "source": []
  }
 ],
 "metadata": {
  "kernelspec": {
   "display_name": "Python 3 (ipykernel)",
   "language": "python",
   "name": "python3"
  },
  "language_info": {
   "codemirror_mode": {
    "name": "ipython",
    "version": 3
   },
   "file_extension": ".py",
   "mimetype": "text/x-python",
   "name": "python",
   "nbconvert_exporter": "python",
   "pygments_lexer": "ipython3",
   "version": "3.11.5"
  }
 },
 "nbformat": 4,
 "nbformat_minor": 5
}
